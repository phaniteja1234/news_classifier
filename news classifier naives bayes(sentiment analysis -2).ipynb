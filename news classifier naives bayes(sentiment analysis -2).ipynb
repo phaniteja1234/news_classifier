{
 "cells": [
  {
   "cell_type": "code",
   "execution_count": 99,
   "id": "d1b7059f",
   "metadata": {},
   "outputs": [],
   "source": [
    "import pandas as pd\n",
    "import numpy as np"
   ]
  },
  {
   "cell_type": "code",
   "execution_count": 146,
   "id": "77802bba",
   "metadata": {},
   "outputs": [],
   "source": [
    "df=pd.read_csv(\"C:\\\\Users\\\\Phani\\\\Downloads\\\\Multinomial-Naive-Bayes-master\\\\Multinomial-Naive-Bayes-master\\\\first_batch.csv\")"
   ]
  },
  {
   "cell_type": "code",
   "execution_count": 147,
   "id": "b9794c7e",
   "metadata": {},
   "outputs": [],
   "source": [
    "import pandas as pd\n",
    "import numpy as np\n",
    "\n",
    "from sklearn.naive_bayes import MultinomialNB\n",
    "\n",
    "from sklearn.feature_extraction.text import CountVectorizer\n",
    "from sklearn.model_selection import train_test_split\n",
    "\n",
    "from sklearn.metrics import accuracy_score\n",
    "import time\n",
    "\n",
    "#library for regular expretion\n",
    "import re"
   ]
  },
  {
   "cell_type": "code",
   "execution_count": 149,
   "id": "a887f8a2",
   "metadata": {},
   "outputs": [],
   "source": [
    "df['TITLE'].replace('', np.nan, inplace=True)"
   ]
  },
  {
   "cell_type": "code",
   "execution_count": 150,
   "id": "5f21f610",
   "metadata": {},
   "outputs": [],
   "source": [
    "df=df[['TITLE','CATEGORY']]"
   ]
  },
  {
   "cell_type": "code",
   "execution_count": 151,
   "id": "0c3e7b43",
   "metadata": {},
   "outputs": [
    {
     "data": {
      "text/plain": [
       "0"
      ]
     },
     "execution_count": 151,
     "metadata": {},
     "output_type": "execute_result"
    }
   ],
   "source": [
    "df['TITLE'].isna().sum()"
   ]
  },
  {
   "cell_type": "code",
   "execution_count": 152,
   "id": "7b934164",
   "metadata": {},
   "outputs": [
    {
     "data": {
      "text/plain": [
       "(65, 2)"
      ]
     },
     "execution_count": 152,
     "metadata": {},
     "output_type": "execute_result"
    }
   ],
   "source": [
    "df.shape"
   ]
  },
  {
   "cell_type": "code",
   "execution_count": 153,
   "id": "4ecaedf4",
   "metadata": {},
   "outputs": [
    {
     "data": {
      "text/plain": [
       "e    32\n",
       "t    22\n",
       "b    11\n",
       "Name: CATEGORY, dtype: int64"
      ]
     },
     "execution_count": 153,
     "metadata": {},
     "output_type": "execute_result"
    }
   ],
   "source": [
    "df['CATEGORY'].value_counts()"
   ]
  },
  {
   "cell_type": "code",
   "execution_count": 154,
   "id": "19a1e35f",
   "metadata": {},
   "outputs": [],
   "source": [
    "import nltk\n",
    "import string"
   ]
  },
  {
   "cell_type": "code",
   "execution_count": 155,
   "id": "f3592712",
   "metadata": {},
   "outputs": [
    {
     "data": {
      "text/plain": [
       "'!\"#$%&\\'()*+,-./:;<=>?@[\\\\]^_`{|}~'"
      ]
     },
     "execution_count": 155,
     "metadata": {},
     "output_type": "execute_result"
    }
   ],
   "source": [
    "string.punctuation"
   ]
  },
  {
   "cell_type": "code",
   "execution_count": 156,
   "id": "b3f4ffff",
   "metadata": {},
   "outputs": [],
   "source": [
    "txt=df['TITLE'][1]"
   ]
  },
  {
   "cell_type": "code",
   "execution_count": 157,
   "id": "15532ad9",
   "metadata": {},
   "outputs": [],
   "source": [
    "l=[]\n",
    "for i in txt:\n",
    "    if i not in string.punctuation:\n",
    "        l.append(i)\n",
    "        "
   ]
  },
  {
   "cell_type": "code",
   "execution_count": 158,
   "id": "b1e87ebf",
   "metadata": {},
   "outputs": [],
   "source": [
    "text=''.join(l)"
   ]
  },
  {
   "cell_type": "code",
   "execution_count": 159,
   "id": "125bdbb4",
   "metadata": {},
   "outputs": [
    {
     "data": {
      "text/plain": [
       "'Feds Charles Plosser sees high bar for change in pace of tapering'"
      ]
     },
     "execution_count": 159,
     "metadata": {},
     "output_type": "execute_result"
    }
   ],
   "source": [
    "text"
   ]
  },
  {
   "cell_type": "code",
   "execution_count": 160,
   "id": "b64c5ea4",
   "metadata": {},
   "outputs": [
    {
     "data": {
      "text/plain": [
       "\"Fed's Charles Plosser sees high bar for change in pace of tapering\""
      ]
     },
     "execution_count": 160,
     "metadata": {},
     "output_type": "execute_result"
    }
   ],
   "source": [
    "txt"
   ]
  },
  {
   "cell_type": "code",
   "execution_count": 161,
   "id": "20a660a6",
   "metadata": {},
   "outputs": [],
   "source": [
    "def punctuncation_remove(n_txt):\n",
    "    l=[]\n",
    "    for i in n_txt:\n",
    "        if i not in string.punctuation:\n",
    "            l.append(i)\n",
    "    return l\n",
    "\n",
    "            "
   ]
  },
  {
   "cell_type": "code",
   "execution_count": 162,
   "id": "e66a6c0c",
   "metadata": {},
   "outputs": [],
   "source": [
    "df['TITLE']=df['TITLE'].apply(punctuncation_remove)"
   ]
  },
  {
   "cell_type": "code",
   "execution_count": 163,
   "id": "c2e3e63c",
   "metadata": {},
   "outputs": [
    {
     "data": {
      "text/plain": [
       "e    32\n",
       "t    22\n",
       "b    11\n",
       "Name: CATEGORY, dtype: int64"
      ]
     },
     "execution_count": 163,
     "metadata": {},
     "output_type": "execute_result"
    }
   ],
   "source": [
    "df['CATEGORY'].value_counts()"
   ]
  },
  {
   "cell_type": "code",
   "execution_count": 186,
   "id": "98ad57a9",
   "metadata": {},
   "outputs": [],
   "source": [
    "def joins(txts):\n",
    "    return \" \".join(txts)"
   ]
  },
  {
   "cell_type": "code",
   "execution_count": 165,
   "id": "031d7c22",
   "metadata": {},
   "outputs": [],
   "source": [
    "df['TITLE']=df['TITLE'].apply(joins)"
   ]
  },
  {
   "cell_type": "code",
   "execution_count": 166,
   "id": "a776b749",
   "metadata": {},
   "outputs": [
    {
     "data": {
      "text/html": [
       "<div>\n",
       "<style scoped>\n",
       "    .dataframe tbody tr th:only-of-type {\n",
       "        vertical-align: middle;\n",
       "    }\n",
       "\n",
       "    .dataframe tbody tr th {\n",
       "        vertical-align: top;\n",
       "    }\n",
       "\n",
       "    .dataframe thead th {\n",
       "        text-align: right;\n",
       "    }\n",
       "</style>\n",
       "<table border=\"1\" class=\"dataframe\">\n",
       "  <thead>\n",
       "    <tr style=\"text-align: right;\">\n",
       "      <th></th>\n",
       "      <th>TITLE</th>\n",
       "      <th>CATEGORY</th>\n",
       "    </tr>\n",
       "  </thead>\n",
       "  <tbody>\n",
       "    <tr>\n",
       "      <th>0</th>\n",
       "      <td>Fed official says weak data caused by weather ...</td>\n",
       "      <td>b</td>\n",
       "    </tr>\n",
       "    <tr>\n",
       "      <th>1</th>\n",
       "      <td>Feds Charles Plosser sees high bar for change ...</td>\n",
       "      <td>b</td>\n",
       "    </tr>\n",
       "    <tr>\n",
       "      <th>2</th>\n",
       "      <td>US open Stocks fall after Fed official hints a...</td>\n",
       "      <td>b</td>\n",
       "    </tr>\n",
       "    <tr>\n",
       "      <th>3</th>\n",
       "      <td>Fed risks falling behind the curve Charles Plo...</td>\n",
       "      <td>b</td>\n",
       "    </tr>\n",
       "    <tr>\n",
       "      <th>4</th>\n",
       "      <td>Feds Plosser Nasty Weather Has Curbed Job Growth</td>\n",
       "      <td>b</td>\n",
       "    </tr>\n",
       "    <tr>\n",
       "      <th>...</th>\n",
       "      <td>...</td>\n",
       "      <td>...</td>\n",
       "    </tr>\n",
       "    <tr>\n",
       "      <th>60</th>\n",
       "      <td>GM recalls another 24M vehicles for belts bags...</td>\n",
       "      <td>t</td>\n",
       "    </tr>\n",
       "    <tr>\n",
       "      <th>61</th>\n",
       "      <td>Business update Parade of GM recalls rolls on ...</td>\n",
       "      <td>t</td>\n",
       "    </tr>\n",
       "    <tr>\n",
       "      <th>62</th>\n",
       "      <td>GM keeps recalling vehicles</td>\n",
       "      <td>t</td>\n",
       "    </tr>\n",
       "    <tr>\n",
       "      <th>63</th>\n",
       "      <td>More GM recalls</td>\n",
       "      <td>t</td>\n",
       "    </tr>\n",
       "    <tr>\n",
       "      <th>64</th>\n",
       "      <td>10 largest GM recalls this year</td>\n",
       "      <td>t</td>\n",
       "    </tr>\n",
       "  </tbody>\n",
       "</table>\n",
       "<p>65 rows × 2 columns</p>\n",
       "</div>"
      ],
      "text/plain": [
       "                                                TITLE CATEGORY\n",
       "0   Fed official says weak data caused by weather ...        b\n",
       "1   Feds Charles Plosser sees high bar for change ...        b\n",
       "2   US open Stocks fall after Fed official hints a...        b\n",
       "3   Fed risks falling behind the curve Charles Plo...        b\n",
       "4    Feds Plosser Nasty Weather Has Curbed Job Growth        b\n",
       "..                                                ...      ...\n",
       "60  GM recalls another 24M vehicles for belts bags...        t\n",
       "61  Business update Parade of GM recalls rolls on ...        t\n",
       "62                        GM keeps recalling vehicles        t\n",
       "63                                    More GM recalls        t\n",
       "64                    10 largest GM recalls this year        t\n",
       "\n",
       "[65 rows x 2 columns]"
      ]
     },
     "execution_count": 166,
     "metadata": {},
     "output_type": "execute_result"
    }
   ],
   "source": [
    "df"
   ]
  },
  {
   "cell_type": "code",
   "execution_count": 167,
   "id": "40dd7ee1",
   "metadata": {},
   "outputs": [],
   "source": [
    "from sklearn.feature_extraction.text import CountVectorizer"
   ]
  },
  {
   "cell_type": "code",
   "execution_count": 168,
   "id": "92d2f18b",
   "metadata": {},
   "outputs": [],
   "source": [
    "t=[df['TITLE'][0]]"
   ]
  },
  {
   "cell_type": "code",
   "execution_count": 169,
   "id": "7bc4b36d",
   "metadata": {},
   "outputs": [],
   "source": [
    "vector=CountVectorizer()"
   ]
  },
  {
   "cell_type": "code",
   "execution_count": 170,
   "id": "643fd7e5",
   "metadata": {},
   "outputs": [
    {
     "data": {
      "text/plain": [
       "CountVectorizer()"
      ]
     },
     "execution_count": 170,
     "metadata": {},
     "output_type": "execute_result"
    }
   ],
   "source": [
    "vector.fit(t)"
   ]
  },
  {
   "cell_type": "code",
   "execution_count": 171,
   "id": "55e40963",
   "metadata": {},
   "outputs": [
    {
     "data": {
      "text/plain": [
       "{'fed': 3,\n",
       " 'official': 5,\n",
       " 'says': 6,\n",
       " 'weak': 10,\n",
       " 'data': 2,\n",
       " 'caused': 1,\n",
       " 'by': 0,\n",
       " 'weather': 11,\n",
       " 'should': 7,\n",
       " 'not': 4,\n",
       " 'slow': 8,\n",
       " 'taper': 9}"
      ]
     },
     "execution_count": 171,
     "metadata": {},
     "output_type": "execute_result"
    }
   ],
   "source": [
    "vector.vocabulary_"
   ]
  },
  {
   "cell_type": "code",
   "execution_count": 172,
   "id": "3f14ed25",
   "metadata": {},
   "outputs": [
    {
     "data": {
      "text/plain": [
       "['Fed official says weak data caused by weather should not slow taper']"
      ]
     },
     "execution_count": 172,
     "metadata": {},
     "output_type": "execute_result"
    }
   ],
   "source": [
    "t"
   ]
  },
  {
   "cell_type": "code",
   "execution_count": 173,
   "id": "40887444",
   "metadata": {},
   "outputs": [],
   "source": [
    "vectors=vector.transform(t)"
   ]
  },
  {
   "cell_type": "code",
   "execution_count": 174,
   "id": "b68ba007",
   "metadata": {},
   "outputs": [
    {
     "name": "stdout",
     "output_type": "stream",
     "text": [
      "  (0, 0)\t1\n",
      "  (0, 1)\t1\n",
      "  (0, 2)\t1\n",
      "  (0, 3)\t1\n",
      "  (0, 4)\t1\n",
      "  (0, 5)\t1\n",
      "  (0, 6)\t1\n",
      "  (0, 7)\t1\n",
      "  (0, 8)\t1\n",
      "  (0, 9)\t1\n",
      "  (0, 10)\t1\n",
      "  (0, 11)\t1\n"
     ]
    }
   ],
   "source": [
    "print(vectors)  ## (0--> 0th row, 0--> word encoded as 0) 1--> no of occurences of the word "
   ]
  },
  {
   "cell_type": "code",
   "execution_count": 175,
   "id": "28403939",
   "metadata": {},
   "outputs": [],
   "source": [
    "x=df['TITLE']"
   ]
  },
  {
   "cell_type": "code",
   "execution_count": 176,
   "id": "1f41d5b4",
   "metadata": {},
   "outputs": [],
   "source": [
    "df['CATEGORY'].replace({'b':0,'e':1,'t':2},inplace=True)"
   ]
  },
  {
   "cell_type": "code",
   "execution_count": 177,
   "id": "68a5698e",
   "metadata": {},
   "outputs": [
    {
     "data": {
      "text/html": [
       "<div>\n",
       "<style scoped>\n",
       "    .dataframe tbody tr th:only-of-type {\n",
       "        vertical-align: middle;\n",
       "    }\n",
       "\n",
       "    .dataframe tbody tr th {\n",
       "        vertical-align: top;\n",
       "    }\n",
       "\n",
       "    .dataframe thead th {\n",
       "        text-align: right;\n",
       "    }\n",
       "</style>\n",
       "<table border=\"1\" class=\"dataframe\">\n",
       "  <thead>\n",
       "    <tr style=\"text-align: right;\">\n",
       "      <th></th>\n",
       "      <th>TITLE</th>\n",
       "      <th>CATEGORY</th>\n",
       "    </tr>\n",
       "  </thead>\n",
       "  <tbody>\n",
       "    <tr>\n",
       "      <th>0</th>\n",
       "      <td>Fed official says weak data caused by weather ...</td>\n",
       "      <td>0</td>\n",
       "    </tr>\n",
       "    <tr>\n",
       "      <th>1</th>\n",
       "      <td>Feds Charles Plosser sees high bar for change ...</td>\n",
       "      <td>0</td>\n",
       "    </tr>\n",
       "    <tr>\n",
       "      <th>2</th>\n",
       "      <td>US open Stocks fall after Fed official hints a...</td>\n",
       "      <td>0</td>\n",
       "    </tr>\n",
       "    <tr>\n",
       "      <th>3</th>\n",
       "      <td>Fed risks falling behind the curve Charles Plo...</td>\n",
       "      <td>0</td>\n",
       "    </tr>\n",
       "    <tr>\n",
       "      <th>4</th>\n",
       "      <td>Feds Plosser Nasty Weather Has Curbed Job Growth</td>\n",
       "      <td>0</td>\n",
       "    </tr>\n",
       "    <tr>\n",
       "      <th>...</th>\n",
       "      <td>...</td>\n",
       "      <td>...</td>\n",
       "    </tr>\n",
       "    <tr>\n",
       "      <th>60</th>\n",
       "      <td>GM recalls another 24M vehicles for belts bags...</td>\n",
       "      <td>2</td>\n",
       "    </tr>\n",
       "    <tr>\n",
       "      <th>61</th>\n",
       "      <td>Business update Parade of GM recalls rolls on ...</td>\n",
       "      <td>2</td>\n",
       "    </tr>\n",
       "    <tr>\n",
       "      <th>62</th>\n",
       "      <td>GM keeps recalling vehicles</td>\n",
       "      <td>2</td>\n",
       "    </tr>\n",
       "    <tr>\n",
       "      <th>63</th>\n",
       "      <td>More GM recalls</td>\n",
       "      <td>2</td>\n",
       "    </tr>\n",
       "    <tr>\n",
       "      <th>64</th>\n",
       "      <td>10 largest GM recalls this year</td>\n",
       "      <td>2</td>\n",
       "    </tr>\n",
       "  </tbody>\n",
       "</table>\n",
       "<p>65 rows × 2 columns</p>\n",
       "</div>"
      ],
      "text/plain": [
       "                                                TITLE  CATEGORY\n",
       "0   Fed official says weak data caused by weather ...         0\n",
       "1   Feds Charles Plosser sees high bar for change ...         0\n",
       "2   US open Stocks fall after Fed official hints a...         0\n",
       "3   Fed risks falling behind the curve Charles Plo...         0\n",
       "4    Feds Plosser Nasty Weather Has Curbed Job Growth         0\n",
       "..                                                ...       ...\n",
       "60  GM recalls another 24M vehicles for belts bags...         2\n",
       "61  Business update Parade of GM recalls rolls on ...         2\n",
       "62                        GM keeps recalling vehicles         2\n",
       "63                                    More GM recalls         2\n",
       "64                    10 largest GM recalls this year         2\n",
       "\n",
       "[65 rows x 2 columns]"
      ]
     },
     "execution_count": 177,
     "metadata": {},
     "output_type": "execute_result"
    }
   ],
   "source": [
    "df"
   ]
  },
  {
   "cell_type": "code",
   "execution_count": 178,
   "id": "4a10d333",
   "metadata": {},
   "outputs": [],
   "source": [
    "from nltk.corpus import stopwords"
   ]
  },
  {
   "cell_type": "code",
   "execution_count": 200,
   "id": "12e1ae44",
   "metadata": {},
   "outputs": [],
   "source": [
    "import string\n",
    "def text_cleaning(a):\n",
    " cleaning = [char for char in a if char not in string.punctuation]\n",
    " #print(cleaning)\n",
    " cleaning=''.join(cleaning)\n",
    " #print(cleaning)   \n",
    " return [word for word in cleaning.split() if word.lower() not in stopwords.words('english')]"
   ]
  },
  {
   "cell_type": "code",
   "execution_count": 180,
   "id": "2e277eee",
   "metadata": {},
   "outputs": [],
   "source": [
    "def stopwordsrem(txt):\n",
    "    x=[]\n",
    "    for i in txt.split():\n",
    "        if i not in stopwords.words(\"english\"):\n",
    "            x.append(i)\n",
    "    return x"
   ]
  },
  {
   "cell_type": "code",
   "execution_count": 181,
   "id": "6a403320",
   "metadata": {},
   "outputs": [],
   "source": [
    "df['TITLE']=df['TITLE'].apply(stopwordsrem)"
   ]
  },
  {
   "cell_type": "code",
   "execution_count": 187,
   "id": "8bcb8590",
   "metadata": {},
   "outputs": [
    {
     "data": {
      "text/html": [
       "<div>\n",
       "<style scoped>\n",
       "    .dataframe tbody tr th:only-of-type {\n",
       "        vertical-align: middle;\n",
       "    }\n",
       "\n",
       "    .dataframe tbody tr th {\n",
       "        vertical-align: top;\n",
       "    }\n",
       "\n",
       "    .dataframe thead th {\n",
       "        text-align: right;\n",
       "    }\n",
       "</style>\n",
       "<table border=\"1\" class=\"dataframe\">\n",
       "  <thead>\n",
       "    <tr style=\"text-align: right;\">\n",
       "      <th></th>\n",
       "      <th>TITLE</th>\n",
       "      <th>CATEGORY</th>\n",
       "    </tr>\n",
       "  </thead>\n",
       "  <tbody>\n",
       "    <tr>\n",
       "      <th>0</th>\n",
       "      <td>[Fed, official, says, weak, data, caused, weat...</td>\n",
       "      <td>0</td>\n",
       "    </tr>\n",
       "    <tr>\n",
       "      <th>1</th>\n",
       "      <td>[Feds, Charles, Plosser, sees, high, bar, chan...</td>\n",
       "      <td>0</td>\n",
       "    </tr>\n",
       "    <tr>\n",
       "      <th>2</th>\n",
       "      <td>[US, open, Stocks, fall, Fed, official, hints,...</td>\n",
       "      <td>0</td>\n",
       "    </tr>\n",
       "    <tr>\n",
       "      <th>3</th>\n",
       "      <td>[Fed, risks, falling, behind, curve, Charles, ...</td>\n",
       "      <td>0</td>\n",
       "    </tr>\n",
       "    <tr>\n",
       "      <th>4</th>\n",
       "      <td>[Feds, Plosser, Nasty, Weather, Has, Curbed, J...</td>\n",
       "      <td>0</td>\n",
       "    </tr>\n",
       "    <tr>\n",
       "      <th>...</th>\n",
       "      <td>...</td>\n",
       "      <td>...</td>\n",
       "    </tr>\n",
       "    <tr>\n",
       "      <th>60</th>\n",
       "      <td>[GM, recalls, another, 24M, vehicles, belts, b...</td>\n",
       "      <td>2</td>\n",
       "    </tr>\n",
       "    <tr>\n",
       "      <th>61</th>\n",
       "      <td>[Business, update, Parade, GM, recalls, rolls,...</td>\n",
       "      <td>2</td>\n",
       "    </tr>\n",
       "    <tr>\n",
       "      <th>62</th>\n",
       "      <td>[GM, keeps, recalling, vehicles]</td>\n",
       "      <td>2</td>\n",
       "    </tr>\n",
       "    <tr>\n",
       "      <th>63</th>\n",
       "      <td>[More, GM, recalls]</td>\n",
       "      <td>2</td>\n",
       "    </tr>\n",
       "    <tr>\n",
       "      <th>64</th>\n",
       "      <td>[10, largest, GM, recalls, year]</td>\n",
       "      <td>2</td>\n",
       "    </tr>\n",
       "  </tbody>\n",
       "</table>\n",
       "<p>65 rows × 2 columns</p>\n",
       "</div>"
      ],
      "text/plain": [
       "                                                TITLE  CATEGORY\n",
       "0   [Fed, official, says, weak, data, caused, weat...         0\n",
       "1   [Feds, Charles, Plosser, sees, high, bar, chan...         0\n",
       "2   [US, open, Stocks, fall, Fed, official, hints,...         0\n",
       "3   [Fed, risks, falling, behind, curve, Charles, ...         0\n",
       "4   [Feds, Plosser, Nasty, Weather, Has, Curbed, J...         0\n",
       "..                                                ...       ...\n",
       "60  [GM, recalls, another, 24M, vehicles, belts, b...         2\n",
       "61  [Business, update, Parade, GM, recalls, rolls,...         2\n",
       "62                   [GM, keeps, recalling, vehicles]         2\n",
       "63                                [More, GM, recalls]         2\n",
       "64                   [10, largest, GM, recalls, year]         2\n",
       "\n",
       "[65 rows x 2 columns]"
      ]
     },
     "execution_count": 187,
     "metadata": {},
     "output_type": "execute_result"
    }
   ],
   "source": [
    "df"
   ]
  },
  {
   "cell_type": "code",
   "execution_count": 189,
   "id": "643b0514",
   "metadata": {},
   "outputs": [],
   "source": [
    "df['TITLE']=df['TITLE'].apply(joins)"
   ]
  },
  {
   "cell_type": "code",
   "execution_count": 190,
   "id": "1b36a428",
   "metadata": {},
   "outputs": [
    {
     "data": {
      "text/html": [
       "<div>\n",
       "<style scoped>\n",
       "    .dataframe tbody tr th:only-of-type {\n",
       "        vertical-align: middle;\n",
       "    }\n",
       "\n",
       "    .dataframe tbody tr th {\n",
       "        vertical-align: top;\n",
       "    }\n",
       "\n",
       "    .dataframe thead th {\n",
       "        text-align: right;\n",
       "    }\n",
       "</style>\n",
       "<table border=\"1\" class=\"dataframe\">\n",
       "  <thead>\n",
       "    <tr style=\"text-align: right;\">\n",
       "      <th></th>\n",
       "      <th>TITLE</th>\n",
       "      <th>CATEGORY</th>\n",
       "    </tr>\n",
       "  </thead>\n",
       "  <tbody>\n",
       "    <tr>\n",
       "      <th>0</th>\n",
       "      <td>Fed official says weak data caused weather slo...</td>\n",
       "      <td>0</td>\n",
       "    </tr>\n",
       "    <tr>\n",
       "      <th>1</th>\n",
       "      <td>Feds Charles Plosser sees high bar change pace...</td>\n",
       "      <td>0</td>\n",
       "    </tr>\n",
       "    <tr>\n",
       "      <th>2</th>\n",
       "      <td>US open Stocks fall Fed official hints acceler...</td>\n",
       "      <td>0</td>\n",
       "    </tr>\n",
       "    <tr>\n",
       "      <th>3</th>\n",
       "      <td>Fed risks falling behind curve Charles Plosser...</td>\n",
       "      <td>0</td>\n",
       "    </tr>\n",
       "    <tr>\n",
       "      <th>4</th>\n",
       "      <td>Feds Plosser Nasty Weather Has Curbed Job Growth</td>\n",
       "      <td>0</td>\n",
       "    </tr>\n",
       "    <tr>\n",
       "      <th>...</th>\n",
       "      <td>...</td>\n",
       "      <td>...</td>\n",
       "    </tr>\n",
       "    <tr>\n",
       "      <th>60</th>\n",
       "      <td>GM recalls another 24M vehicles belts bags</td>\n",
       "      <td>2</td>\n",
       "    </tr>\n",
       "    <tr>\n",
       "      <th>61</th>\n",
       "      <td>Business update Parade GM recalls rolls 24M ve...</td>\n",
       "      <td>2</td>\n",
       "    </tr>\n",
       "    <tr>\n",
       "      <th>62</th>\n",
       "      <td>GM keeps recalling vehicles</td>\n",
       "      <td>2</td>\n",
       "    </tr>\n",
       "    <tr>\n",
       "      <th>63</th>\n",
       "      <td>More GM recalls</td>\n",
       "      <td>2</td>\n",
       "    </tr>\n",
       "    <tr>\n",
       "      <th>64</th>\n",
       "      <td>10 largest GM recalls year</td>\n",
       "      <td>2</td>\n",
       "    </tr>\n",
       "  </tbody>\n",
       "</table>\n",
       "<p>65 rows × 2 columns</p>\n",
       "</div>"
      ],
      "text/plain": [
       "                                                TITLE  CATEGORY\n",
       "0   Fed official says weak data caused weather slo...         0\n",
       "1   Feds Charles Plosser sees high bar change pace...         0\n",
       "2   US open Stocks fall Fed official hints acceler...         0\n",
       "3   Fed risks falling behind curve Charles Plosser...         0\n",
       "4    Feds Plosser Nasty Weather Has Curbed Job Growth         0\n",
       "..                                                ...       ...\n",
       "60         GM recalls another 24M vehicles belts bags         2\n",
       "61  Business update Parade GM recalls rolls 24M ve...         2\n",
       "62                        GM keeps recalling vehicles         2\n",
       "63                                    More GM recalls         2\n",
       "64                         10 largest GM recalls year         2\n",
       "\n",
       "[65 rows x 2 columns]"
      ]
     },
     "execution_count": 190,
     "metadata": {},
     "output_type": "execute_result"
    }
   ],
   "source": [
    "df"
   ]
  },
  {
   "cell_type": "code",
   "execution_count": 262,
   "id": "6f07319d",
   "metadata": {},
   "outputs": [],
   "source": [
    "b_transfrom=CountVectorizer(analyzer=text_cleaning).fit(df['TITLE'])"
   ]
  },
  {
   "cell_type": "code",
   "execution_count": 263,
   "id": "62ba107b",
   "metadata": {},
   "outputs": [
    {
     "data": {
      "text/plain": [
       "{'Fed': 61,\n",
       " 'official': 202,\n",
       " 'says': 221,\n",
       " 'weak': 243,\n",
       " 'data': 171,\n",
       " 'caused': 167,\n",
       " 'weather': 244,\n",
       " 'slow': 224,\n",
       " 'taper': 229,\n",
       " 'Feds': 62,\n",
       " 'Charles': 38,\n",
       " 'Plosser': 109,\n",
       " 'sees': 222,\n",
       " 'high': 183,\n",
       " 'bar': 160,\n",
       " 'change': 168,\n",
       " 'pace': 205,\n",
       " 'tapering': 230,\n",
       " 'US': 141,\n",
       " 'open': 203,\n",
       " 'Stocks': 131,\n",
       " 'fall': 176,\n",
       " 'hints': 184,\n",
       " 'accelerated': 155,\n",
       " 'risks': 219,\n",
       " 'falling': 177,\n",
       " 'behind': 162,\n",
       " 'curve': 170,\n",
       " 'Nasty': 96,\n",
       " 'Weather': 147,\n",
       " 'Curbed': 45,\n",
       " 'Job': 81,\n",
       " 'Growth': 73,\n",
       " 'May': 86,\n",
       " 'Accelerate': 18,\n",
       " 'Tapering': 136,\n",
       " 'Pace': 104,\n",
       " 'Taper': 135,\n",
       " 'may': 195,\n",
       " 'expects': 175,\n",
       " 'unemployment': 236,\n",
       " '62': 14,\n",
       " 'end': 174,\n",
       " '2014': 4,\n",
       " 'jobs': 190,\n",
       " 'growth': 182,\n",
       " 'last': 193,\n",
       " 'month': 197,\n",
       " 'hit': 185,\n",
       " 'weatherFed': 245,\n",
       " 'President': 113,\n",
       " 'ECB': 54,\n",
       " 'unlikely': 237,\n",
       " 'sterilisation': 225,\n",
       " 'SMP': 121,\n",
       " 'purchases': 207,\n",
       " 'traders': 235,\n",
       " 'sterilization': 226,\n",
       " 'Box': 32,\n",
       " 'Office': 102,\n",
       " 'XMen': 153,\n",
       " 'Days': 50,\n",
       " 'Future': 68,\n",
       " 'Past': 106,\n",
       " 'Nabs': 95,\n",
       " '261M': 11,\n",
       " 'Worldwide': 150,\n",
       " 'Debut': 51,\n",
       " 'Mania': 85,\n",
       " 'Report': 119,\n",
       " 'FUTURE': 59,\n",
       " 'RULES': 115,\n",
       " 'Believe': 24,\n",
       " 'Christian': 41,\n",
       " 'theme': 231,\n",
       " 'Review': 120,\n",
       " '–': 251,\n",
       " 'Sequel': 124,\n",
       " 'Prequel': 112,\n",
       " 'Reboot': 116,\n",
       " 'Numbers': 99,\n",
       " 'Slay': 127,\n",
       " 'Godzilla': 72,\n",
       " '7': 15,\n",
       " 'hours': 187,\n",
       " 'ago': 157,\n",
       " 'dominates': 173,\n",
       " 'holiday': 186,\n",
       " 'box': 166,\n",
       " 'office': 201,\n",
       " '91M': 17,\n",
       " 'Memorial': 87,\n",
       " 'Day': 49,\n",
       " 'weekend': 246,\n",
       " 'movie': 198,\n",
       " '“Days': 252,\n",
       " 'XMen”': 154,\n",
       " 'beat': 161,\n",
       " 'record': 214,\n",
       " '1': 1,\n",
       " 'million': 196,\n",
       " 'views': 242,\n",
       " 'global': 181,\n",
       " 'rakes': 208,\n",
       " 'Film': 63,\n",
       " 'reviews': 217,\n",
       " 'Bryan': 35,\n",
       " 'Singers': 126,\n",
       " '“XMen': 254,\n",
       " 'Past”': 107,\n",
       " 'returns': 216,\n",
       " 'familiar': 178,\n",
       " 'franchise': 179,\n",
       " 'themes': 232,\n",
       " 'rise': 218,\n",
       " 'reaching': 209,\n",
       " 'top': 233,\n",
       " 'Weekend': 148,\n",
       " 'Wrap': 151,\n",
       " '25th': 9,\n",
       " 'KWWL': 82,\n",
       " 'Eastern': 55,\n",
       " 'Iowa': 80,\n",
       " 'Breaking': 34,\n",
       " 'movies': 199,\n",
       " 'takes': 228,\n",
       " 'records': 215,\n",
       " 'Sets': 125,\n",
       " 'Franchise': 65,\n",
       " 'Best': 25,\n",
       " '262': 12,\n",
       " 'Mil': 88,\n",
       " 'PreOrder': 111,\n",
       " 'XMEN': 152,\n",
       " 'DAYS': 46,\n",
       " 'PAST': 103,\n",
       " 'Bluray': 28,\n",
       " 'Score': 122,\n",
       " '91': 16,\n",
       " 'debut': 172,\n",
       " 'Blended': 27,\n",
       " 'Moves': 93,\n",
       " 'Thats': 138,\n",
       " 'Boy': 33,\n",
       " 'Wins': 149,\n",
       " 'Foxs': 64,\n",
       " 'Topples': 139,\n",
       " 'VIDEO': 145,\n",
       " 'Gang': 70,\n",
       " 'Towers': 140,\n",
       " 'N': 94,\n",
       " 'America': 21,\n",
       " 'Holiday': 77,\n",
       " 'Colossal': 43,\n",
       " 'opening': 204,\n",
       " 'Extinction': 58,\n",
       " 'TV': 134,\n",
       " 'Spot': 130,\n",
       " 'Released': 118,\n",
       " 'INTL': 79,\n",
       " 'BOX': 23,\n",
       " 'OFFICE': 100,\n",
       " 'FanTastic': 60,\n",
       " 'Bows': 31,\n",
       " '…': 255,\n",
       " 'Dominates': 53,\n",
       " 'Million': 89,\n",
       " '3': 13,\n",
       " 'reasons': 210,\n",
       " 'best': 164,\n",
       " 'yet': 250,\n",
       " 'gang': 180,\n",
       " 'towers': 234,\n",
       " 'North': 98,\n",
       " 'Slays': 128,\n",
       " 'Bombs': 30,\n",
       " 'DOFP': 47,\n",
       " 'Unnuked': 142,\n",
       " 'Fridge': 66,\n",
       " '“Unnuked': 253,\n",
       " 'Fridge”': 67,\n",
       " 'IBM': 78,\n",
       " 'make': 194,\n",
       " 'big': 165,\n",
       " 'accessible': 156,\n",
       " 'users': 239,\n",
       " 'via': 241,\n",
       " 'cloud': 169,\n",
       " 'Bolsters': 29,\n",
       " 'Storage': 132,\n",
       " 'Play': 108,\n",
       " 'Ups': 144,\n",
       " 'x86': 248,\n",
       " 'Hardware': 75,\n",
       " 'Portfolio': 110,\n",
       " 'shell': 223,\n",
       " 'infrastructure': 188,\n",
       " 'study': 227,\n",
       " 'Cheap': 40,\n",
       " 'Chart': 39,\n",
       " 'Cloud': 42,\n",
       " 'Exposure': 57,\n",
       " 'Concerning': 44,\n",
       " 'Launches': 84,\n",
       " 'New': 97,\n",
       " 'Systems': 133,\n",
       " 'Offerings': 101,\n",
       " 'Big': 26,\n",
       " 'Data': 48,\n",
       " 'Unveils': 143,\n",
       " 'Software': 129,\n",
       " 'Defined': 52,\n",
       " 'Era': 56,\n",
       " 'Technology': 137,\n",
       " 'GM': 69,\n",
       " 'recalls': 213,\n",
       " 'another': 158,\n",
       " '24': 5,\n",
       " 'belts': 163,\n",
       " 'bags': 159,\n",
       " 'Parade': 105,\n",
       " 'rolls': 220,\n",
       " 'vehicles': 240,\n",
       " '0': 0,\n",
       " 'Minutes': 90,\n",
       " 'Ago': 20,\n",
       " '24M': 7,\n",
       " 'Recalls': 117,\n",
       " 'Another': 22,\n",
       " '26': 10,\n",
       " 'Vehicles': 146,\n",
       " 'issues': 189,\n",
       " 'new': 200,\n",
       " 'recall': 211,\n",
       " '242': 6,\n",
       " 'Mln': 91,\n",
       " 'Sees': 123,\n",
       " 'Addl': 19,\n",
       " 'Q2': 114,\n",
       " 'Charge': 37,\n",
       " '200': 3,\n",
       " 'Hit': 76,\n",
       " 'Lansing': 83,\n",
       " 'Hard': 74,\n",
       " 'General': 71,\n",
       " 'Motors': 92,\n",
       " 'parade': 206,\n",
       " '259': 8,\n",
       " 'worldwide': 247,\n",
       " 'Business': 36,\n",
       " 'update': 238,\n",
       " 'keeps': 191,\n",
       " 'recalling': 212,\n",
       " '10': 2,\n",
       " 'largest': 192,\n",
       " 'year': 249}"
      ]
     },
     "execution_count": 263,
     "metadata": {},
     "output_type": "execute_result"
    }
   ],
   "source": [
    "b_transfrom.vocabulary_"
   ]
  },
  {
   "cell_type": "code",
   "execution_count": 264,
   "id": "e06e87e4",
   "metadata": {},
   "outputs": [],
   "source": [
    "t_bow=b_transfrom.transform(df['TITLE'])"
   ]
  },
  {
   "cell_type": "code",
   "execution_count": 265,
   "id": "b4327363",
   "metadata": {},
   "outputs": [
    {
     "name": "stdout",
     "output_type": "stream",
     "text": [
      "  (0, 61)\t1\n",
      "  (0, 167)\t1\n",
      "  (0, 171)\t1\n",
      "  (0, 202)\t1\n",
      "  (0, 221)\t1\n",
      "  (0, 224)\t1\n",
      "  (0, 229)\t1\n",
      "  (0, 243)\t1\n",
      "  (0, 244)\t1\n",
      "  (1, 38)\t1\n",
      "  (1, 62)\t1\n",
      "  (1, 109)\t1\n",
      "  (1, 160)\t1\n",
      "  (1, 168)\t1\n",
      "  (1, 183)\t1\n",
      "  (1, 205)\t1\n",
      "  (1, 222)\t1\n",
      "  (1, 230)\t1\n",
      "  (2, 61)\t1\n",
      "  (2, 131)\t1\n",
      "  (2, 141)\t1\n",
      "  (2, 155)\t1\n",
      "  (2, 176)\t1\n",
      "  (2, 184)\t1\n",
      "  (2, 202)\t1\n",
      "  :\t:\n",
      "  (60, 69)\t1\n",
      "  (60, 158)\t1\n",
      "  (60, 159)\t1\n",
      "  (60, 163)\t1\n",
      "  (60, 213)\t1\n",
      "  (60, 240)\t1\n",
      "  (61, 7)\t1\n",
      "  (61, 36)\t1\n",
      "  (61, 69)\t1\n",
      "  (61, 105)\t1\n",
      "  (61, 213)\t1\n",
      "  (61, 220)\t1\n",
      "  (61, 238)\t1\n",
      "  (61, 240)\t1\n",
      "  (62, 69)\t1\n",
      "  (62, 191)\t1\n",
      "  (62, 212)\t1\n",
      "  (62, 240)\t1\n",
      "  (63, 69)\t1\n",
      "  (63, 213)\t1\n",
      "  (64, 2)\t1\n",
      "  (64, 69)\t1\n",
      "  (64, 192)\t1\n",
      "  (64, 213)\t1\n",
      "  (64, 249)\t1\n"
     ]
    }
   ],
   "source": [
    "print(t_bow)"
   ]
  },
  {
   "cell_type": "code",
   "execution_count": null,
   "id": "9a36b09a",
   "metadata": {},
   "outputs": [],
   "source": []
  },
  {
   "cell_type": "code",
   "execution_count": 205,
   "id": "6c3b2f2f",
   "metadata": {},
   "outputs": [],
   "source": [
    "X=t_bow.toarray()"
   ]
  },
  {
   "cell_type": "code",
   "execution_count": 206,
   "id": "0d4ac15f",
   "metadata": {},
   "outputs": [
    {
     "data": {
      "text/plain": [
       "(65, 256)"
      ]
     },
     "execution_count": 206,
     "metadata": {},
     "output_type": "execute_result"
    }
   ],
   "source": [
    "X.shape"
   ]
  },
  {
   "cell_type": "code",
   "execution_count": 211,
   "id": "0fcd189a",
   "metadata": {},
   "outputs": [],
   "source": [
    "##tfidf- term frequency inverse document freaquency to know the most significantwords\n",
    "from sklearn.feature_extraction.text import TfidfTransformer"
   ]
  },
  {
   "cell_type": "code",
   "execution_count": 212,
   "id": "a19c747f",
   "metadata": {},
   "outputs": [],
   "source": [
    "tf=TfidfTransformer()"
   ]
  },
  {
   "cell_type": "code",
   "execution_count": 213,
   "id": "ee337bde",
   "metadata": {
    "scrolled": true
   },
   "outputs": [
    {
     "data": {
      "text/plain": [
       "TfidfTransformer()"
      ]
     },
     "execution_count": 213,
     "metadata": {},
     "output_type": "execute_result"
    }
   ],
   "source": [
    "tf.fit(t_bow)"
   ]
  },
  {
   "cell_type": "code",
   "execution_count": 215,
   "id": "888f06fa",
   "metadata": {},
   "outputs": [],
   "source": [
    "tfid_title=tf.transform(t_bow)"
   ]
  },
  {
   "cell_type": "code",
   "execution_count": 221,
   "id": "558e3c5c",
   "metadata": {},
   "outputs": [],
   "source": [
    "x=tfid_title.toarray()"
   ]
  },
  {
   "cell_type": "code",
   "execution_count": 222,
   "id": "cc998117",
   "metadata": {},
   "outputs": [],
   "source": [
    "y=df['CATEGORY']"
   ]
  },
  {
   "cell_type": "code",
   "execution_count": 225,
   "id": "b49be093",
   "metadata": {},
   "outputs": [],
   "source": [
    "from sklearn.model_selection import train_test_split\n",
    "x_train,x_test,y_train,y_test=train_test_split(x,y,test_size=0.2)"
   ]
  },
  {
   "cell_type": "code",
   "execution_count": 261,
   "id": "6be41884",
   "metadata": {},
   "outputs": [
    {
     "data": {
      "text/plain": [
       "(52, 256)"
      ]
     },
     "execution_count": 261,
     "metadata": {},
     "output_type": "execute_result"
    }
   ],
   "source": [
    "x_train.shape"
   ]
  },
  {
   "cell_type": "code",
   "execution_count": 227,
   "id": "f875f118",
   "metadata": {},
   "outputs": [
    {
     "data": {
      "text/plain": [
       "array([[0.        , 0.        , 0.        , ..., 0.        , 0.        ,\n",
       "        0.        ],\n",
       "       [0.        , 0.        , 0.        , ..., 0.53125073, 0.        ,\n",
       "        0.        ],\n",
       "       [0.        , 0.        , 0.        , ..., 0.        , 0.        ,\n",
       "        0.        ],\n",
       "       ...,\n",
       "       [0.        , 0.        , 0.        , ..., 0.        , 0.        ,\n",
       "        0.        ],\n",
       "       [0.        , 0.        , 0.        , ..., 0.        , 0.        ,\n",
       "        0.        ],\n",
       "       [0.        , 0.        , 0.        , ..., 0.        , 0.        ,\n",
       "        0.        ]])"
      ]
     },
     "execution_count": 227,
     "metadata": {},
     "output_type": "execute_result"
    }
   ],
   "source": [
    "x_test"
   ]
  },
  {
   "cell_type": "code",
   "execution_count": 228,
   "id": "27326c6b",
   "metadata": {},
   "outputs": [
    {
     "data": {
      "text/plain": [
       "37    1\n",
       "15    1\n",
       "59    2\n",
       "48    2\n",
       "28    1\n",
       "3     0\n",
       "51    2\n",
       "46    2\n",
       "64    2\n",
       "45    2\n",
       "52    2\n",
       "9     0\n",
       "10    0\n",
       "58    2\n",
       "63    2\n",
       "20    1\n",
       "49    2\n",
       "40    1\n",
       "13    1\n",
       "33    1\n",
       "8     0\n",
       "25    1\n",
       "38    1\n",
       "23    1\n",
       "41    1\n",
       "2     0\n",
       "44    2\n",
       "31    1\n",
       "12    1\n",
       "36    1\n",
       "4     0\n",
       "34    1\n",
       "7     0\n",
       "39    1\n",
       "6     0\n",
       "43    2\n",
       "22    1\n",
       "17    1\n",
       "14    1\n",
       "5     0\n",
       "54    2\n",
       "56    2\n",
       "32    1\n",
       "61    2\n",
       "26    1\n",
       "53    2\n",
       "27    1\n",
       "21    1\n",
       "1     0\n",
       "24    1\n",
       "50    2\n",
       "11    1\n",
       "Name: CATEGORY, dtype: int64"
      ]
     },
     "execution_count": 228,
     "metadata": {},
     "output_type": "execute_result"
    }
   ],
   "source": [
    "y_train"
   ]
  },
  {
   "cell_type": "code",
   "execution_count": 229,
   "id": "5c7c1fdc",
   "metadata": {},
   "outputs": [],
   "source": [
    "from sklearn.naive_bayes import BernoulliNB,MultinomialNB"
   ]
  },
  {
   "cell_type": "code",
   "execution_count": 230,
   "id": "4616e49d",
   "metadata": {},
   "outputs": [],
   "source": [
    "cl2=MultinomialNB()"
   ]
  },
  {
   "cell_type": "code",
   "execution_count": 231,
   "id": "9db16a3a",
   "metadata": {},
   "outputs": [
    {
     "data": {
      "text/plain": [
       "MultinomialNB()"
      ]
     },
     "execution_count": 231,
     "metadata": {},
     "output_type": "execute_result"
    }
   ],
   "source": [
    "cl2.fit(x_train,y_train)"
   ]
  },
  {
   "cell_type": "code",
   "execution_count": 233,
   "id": "3b92b3d6",
   "metadata": {},
   "outputs": [],
   "source": [
    "y_pred=cl2.predict(x_test)"
   ]
  },
  {
   "cell_type": "code",
   "execution_count": 234,
   "id": "6a1ca202",
   "metadata": {},
   "outputs": [],
   "source": [
    "from sklearn.metrics import accuracy_score"
   ]
  },
  {
   "cell_type": "code",
   "execution_count": 235,
   "id": "a9dcdc8c",
   "metadata": {},
   "outputs": [
    {
     "data": {
      "text/plain": [
       "0.9230769230769231"
      ]
     },
     "execution_count": 235,
     "metadata": {},
     "output_type": "execute_result"
    }
   ],
   "source": [
    "accuracy_score(y_test,y_pred)"
   ]
  },
  {
   "cell_type": "code",
   "execution_count": 239,
   "id": "d8a91f17",
   "metadata": {},
   "outputs": [],
   "source": [
    "inputs=['brodacasting fees for the array was very large'])"
   ]
  },
  {
   "cell_type": "code",
   "execution_count": 246,
   "id": "3cf7ef92",
   "metadata": {},
   "outputs": [],
   "source": [
    "t=['Fed official says weak data caused by weather should not slow taper']"
   ]
  },
  {
   "cell_type": "code",
   "execution_count": 274,
   "id": "d70b1cd9",
   "metadata": {},
   "outputs": [],
   "source": [
    "from sklearn.pipeline import make_pipeline\n",
    "model=make_pipeline(b_transfrom, cl2)"
   ]
  },
  {
   "cell_type": "code",
   "execution_count": 247,
   "id": "5a789d8b",
   "metadata": {},
   "outputs": [],
   "source": [
    "vector=CountVectorizer()"
   ]
  },
  {
   "cell_type": "code",
   "execution_count": 267,
   "id": "4420055a",
   "metadata": {},
   "outputs": [],
   "source": [
    "d=b_transfrom.transform(t).toarray()"
   ]
  },
  {
   "cell_type": "code",
   "execution_count": 271,
   "id": "e71834ec",
   "metadata": {},
   "outputs": [
    {
     "data": {
      "text/plain": [
       "(1, 256)"
      ]
     },
     "execution_count": 271,
     "metadata": {},
     "output_type": "execute_result"
    }
   ],
   "source": [
    "d.shape"
   ]
  },
  {
   "cell_type": "code",
   "execution_count": 277,
   "id": "44bba296",
   "metadata": {},
   "outputs": [
    {
     "data": {
      "text/plain": [
       "array([1], dtype=int64)"
      ]
     },
     "execution_count": 277,
     "metadata": {},
     "output_type": "execute_result"
    }
   ],
   "source": [
    "model.predict(inputs)"
   ]
  },
  {
   "cell_type": "code",
   "execution_count": 270,
   "id": "74c06663",
   "metadata": {},
   "outputs": [
    {
     "data": {
      "text/plain": [
       "array([0], dtype=int64)"
      ]
     },
     "execution_count": 270,
     "metadata": {},
     "output_type": "execute_result"
    }
   ],
   "source": [
    "cl2.predict(d)"
   ]
  }
 ],
 "metadata": {
  "kernelspec": {
   "display_name": "Python 3 (ipykernel)",
   "language": "python",
   "name": "python3"
  },
  "language_info": {
   "codemirror_mode": {
    "name": "ipython",
    "version": 3
   },
   "file_extension": ".py",
   "mimetype": "text/x-python",
   "name": "python",
   "nbconvert_exporter": "python",
   "pygments_lexer": "ipython3",
   "version": "3.9.12"
  }
 },
 "nbformat": 4,
 "nbformat_minor": 5
}
